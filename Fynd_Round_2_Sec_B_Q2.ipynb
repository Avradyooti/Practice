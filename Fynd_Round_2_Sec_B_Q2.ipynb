{
  "nbformat": 4,
  "nbformat_minor": 0,
  "metadata": {
    "colab": {
      "provenance": []
    },
    "kernelspec": {
      "name": "python3",
      "display_name": "Python 3"
    },
    "language_info": {
      "name": "python"
    }
  },
  "cells": [
    {
      "cell_type": "code",
      "execution_count": 4,
      "metadata": {
        "colab": {
          "base_uri": "https://localhost:8080/"
        },
        "id": "XJKL_tBmbJcj",
        "outputId": "64af68dc-5bec-45ae-99f1-d877e045e464"
      },
      "outputs": [
        {
          "output_type": "stream",
          "name": "stdout",
          "text": [
            "Stage-to-Stage Conversion Rates (%):\n",
            "view_to_cart: 67.06%\n",
            "cart_to_checkout: 84.27%\n",
            "checkout_to_order: 68.67%\n"
          ]
        }
      ],
      "source": [
        "# --- Funnel Builder ---\n",
        "import pandas as pd\n",
        "import numpy as np\n",
        "# Create binary flags per session\n",
        "web_events = pd.read_csv('web_events.csv')\n",
        "funnel_flags = web_events.pivot_table(\n",
        "    index='session_id',\n",
        "    columns='event_type',\n",
        "    aggfunc='size',\n",
        "    fill_value=0\n",
        ").reset_index()\n",
        "\n",
        "# Convert count to binary presence flags\n",
        "funnel_flags = funnel_flags.assign(\n",
        "    product_view=lambda df: (df.get('product_view', 0) > 0).astype(int),\n",
        "    add_to_cart=lambda df: (df.get('add_to_cart', 0) > 0).astype(int),\n",
        "    checkout_started=lambda df: (df.get('payment_attempted', 0) > 0).astype(int),\n",
        "    order_completed=lambda df: (df.get('order_completed', 0) > 0).astype(int)\n",
        ")[['session_id', 'product_view', 'add_to_cart', 'checkout_started', 'order_completed']]\n",
        "\n",
        "# Conversion rates\n",
        "total_sessions = len(funnel_flags)\n",
        "\n",
        "conversion = {\n",
        "    'view_to_cart': funnel_flags['add_to_cart'].sum() / funnel_flags['product_view'].sum() * 100,\n",
        "    'cart_to_checkout': funnel_flags['checkout_started'].sum() / funnel_flags['add_to_cart'].sum() * 100,\n",
        "    'checkout_to_order': funnel_flags['order_completed'].sum() / funnel_flags['checkout_started'].sum() * 100,\n",
        "}\n",
        "\n",
        "print(\"Stage-to-Stage Conversion Rates (%):\")\n",
        "for stage, rate in conversion.items():\n",
        "    print(f\"{stage}: {rate:.2f}%\")"
      ]
    }
  ]
}