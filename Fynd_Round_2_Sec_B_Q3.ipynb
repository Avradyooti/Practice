{
  "nbformat": 4,
  "nbformat_minor": 0,
  "metadata": {
    "colab": {
      "provenance": [],
      "authorship_tag": "ABX9TyP1hu+KFXUl1HR+Bujb76o9",
      "include_colab_link": true
    },
    "kernelspec": {
      "name": "python3",
      "display_name": "Python 3"
    },
    "language_info": {
      "name": "python"
    }
  },
  "cells": [
    {
      "cell_type": "markdown",
      "metadata": {
        "id": "view-in-github",
        "colab_type": "text"
      },
      "source": [
        "<a href=\"https://colab.research.google.com/github/Avradyooti/Practice/blob/main/Fynd_Round_2_Sec_B_Q3.ipynb\" target=\"_parent\"><img src=\"https://colab.research.google.com/assets/colab-badge.svg\" alt=\"Open In Colab\"/></a>"
      ]
    },
    {
      "cell_type": "code",
      "source": [
        "import pandas as pd\n",
        "\n",
        "# Load all datasets\n",
        "sales = pd.read_csv(\"daily_sales.csv\", parse_dates=[\"snapshot_date\"])\n",
        "inventory = pd.read_csv(\"daily_inventory.csv\", parse_dates=[\"snapshot_date\"])\n",
        "products = pd.read_csv(\"products.csv\")\n",
        "\n",
        "# Merge sales + inventory by style_code and snapshot_date\n",
        "data = pd.merge(sales, inventory, on=[\"style_code\", \"snapshot_date\"], how=\"inner\")\n",
        "\n",
        "# Sort and calculate rolling 7-day sales\n",
        "data = data.sort_values(by=[\"style_code\", \"snapshot_date\"])\n",
        "data[\"rolling_7d_sales\"] = data.groupby(\"style_code\")[\"units_sold\"] \\\n",
        "    .transform(lambda x: x.rolling(window=7, min_periods=1).sum())\n",
        "\n",
        "# Calculate days of cover\n",
        "data[\"days_of_cover\"] = data[\"on_hand_qty\"] / (data[\"rolling_7d_sales\"] / 7)\n",
        "\n",
        "# Lifetime sales and latest on_hand_qty\n",
        "lifetime_sales = data.groupby(\"style_code\")[\"units_sold\"].sum().rename(\"lifetime_units_sold\")\n",
        "latest_inventory = data.sort_values(\"snapshot_date\").groupby(\"style_code\").last()[\"on_hand_qty\"].rename(\"latest_on_hand\")\n",
        "\n",
        "sell_through = (lifetime_sales / (lifetime_sales + latest_inventory)).rename(\"sell_through\")\n",
        "\n",
        "product_info = products[[\"style_code\", \"category\"]].drop_duplicates()\n",
        "summary = pd.concat([lifetime_sales, latest_inventory, sell_through], axis=1).reset_index()\n",
        "summary = pd.merge(summary, product_info, on=\"style_code\", how=\"left\")\n",
        "\n",
        "latest_doc = data.sort_values(\"snapshot_date\").groupby(\"style_code\").last()[\"days_of_cover\"].rename(\"days_of_cover\")\n",
        "summary = pd.merge(summary, latest_doc, on=\"style_code\", how=\"left\")\n",
        "print(summary[\"days_of_cover\"].min())\n",
        "print(summary[\"sell_through\"].min())\n",
        "\n",
        "at_risk = summary[\n",
        "    (summary[\"days_of_cover\"] < 14) &\n",
        "    (summary[\"sell_through\"] < 0.35)\n",
        "].copy()\n",
        "\n",
        "# Find other styles in same category with high inventory\n",
        "transfer_candidates = summary[summary[\"days_of_cover\"] > 21].groupby(\"category\")[\"style_code\"].apply(list).rename(\"transfer_candidates\")\n",
        "\n",
        "at_risk = pd.merge(at_risk, transfer_candidates, on=\"category\", how=\"left\")\n",
        "\n",
        "# Assign action\n",
        "def decide_action(row):\n",
        "    candidates = row.get(\"transfer_candidates\", [])\n",
        "    if isinstance(candidates, list) and any(s != row[\"style_code\"] for s in candidates):\n",
        "        return \"transfer\"\n",
        "    return \"reorder\"\n",
        "\n",
        "at_risk[\"action\"] = at_risk.apply(decide_action, axis=1)\n",
        "final = at_risk[[\"style_code\", \"days_of_cover\", \"sell_through\", \"action\"]]\n",
        "print(final)\n",
        "# Optional: export to CSV\n",
        "# final.to_csv(\"stockout_alerts.csv\", index=False)"
      ],
      "metadata": {
        "colab": {
          "base_uri": "https://localhost:8080/"
        },
        "id": "jWAno9_Tlslo",
        "outputId": "3b433f12-9366-48e3-cabb-a017d350e482"
      },
      "execution_count": 8,
      "outputs": [
        {
          "output_type": "stream",
          "name": "stdout",
          "text": [
            "4.5\n",
            "0.673469387755102\n",
            "Empty DataFrame\n",
            "Columns: [style_code, days_of_cover, sell_through, action]\n",
            "Index: []\n"
          ]
        }
      ]
    }
  ]
}