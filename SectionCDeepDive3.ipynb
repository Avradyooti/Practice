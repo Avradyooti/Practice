{
  "nbformat": 4,
  "nbformat_minor": 0,
  "metadata": {
    "colab": {
      "provenance": [],
      "authorship_tag": "ABX9TyNGos96gvZbNxLqxbzmPl/Q",
      "include_colab_link": true
    },
    "kernelspec": {
      "name": "python3",
      "display_name": "Python 3"
    },
    "language_info": {
      "name": "python"
    }
  },
  "cells": [
    {
      "cell_type": "markdown",
      "metadata": {
        "id": "view-in-github",
        "colab_type": "text"
      },
      "source": [
        "<a href=\"https://colab.research.google.com/github/Avradyooti/Practice/blob/main/SectionCDeepDive3.ipynb\" target=\"_parent\"><img src=\"https://colab.research.google.com/assets/colab-badge.svg\" alt=\"Open In Colab\"/></a>"
      ]
    },
    {
      "cell_type": "code",
      "source": [
        "import pandas as pd\n",
        "import numpy as np\n",
        "import matplotlib.pyplot as plt\n",
        "\n",
        "# -------------------- Load Data --------------------\n",
        "daily_inventory = pd.read_csv('daily_inventory.csv', parse_dates=[\"snapshot_date\"])\n",
        "daily_sales = pd.read_csv('daily_sales.csv', parse_dates=[\"snapshot_date\"])\n",
        "purchase_orders = pd.read_csv('purchase_orders.csv')\n",
        "products = pd.read_csv('products.csv')\n",
        "web_events = pd.read_csv('web_events.csv', parse_dates=[\"event_ts\"])\n",
        "\n",
        "# -------------------- 1. Web Metrics: Sessions & Conversions --------------------\n",
        "pageviews = web_events[web_events[\"event_type\"] == \"page_view\"] \\\n",
        "    .groupby(\"product_id\")[\"session_id\"].nunique().rename(\"sessions\")\n",
        "purchases = web_events[web_events[\"event_type\"] == \"purchase\"] \\\n",
        "    .groupby(\"product_id\")[\"session_id\"].nunique().rename(\"conversions\")\n",
        "\n",
        "product_metrics = pd.concat([pageviews, purchases], axis=1).fillna(0)\n",
        "product_metrics[\"conversion_rate\"] = product_metrics[\"conversions\"] / product_metrics[\"sessions\"]\n",
        "product_metrics = product_metrics.reset_index()\n",
        "\n",
        "# -------------------- 2. Add Style & Category Info --------------------\n",
        "product_metrics = pd.merge(\n",
        "    product_metrics,\n",
        "    products[[\"product_id\", \"style_code\", \"category\"]],\n",
        "    on=\"product_id\",\n",
        "    how=\"left\"\n",
        ")\n",
        "\n",
        "# -------------------- 3. Sell-through Calculation --------------------\n",
        "sales_total = daily_sales.groupby(\"style_code\")[\"units_sold\"].sum().rename(\"units_sold_total\")\n",
        "latest_on_hand = daily_inventory.sort_values(\"snapshot_date\").groupby(\"style_code\").last()[\"on_hand_qty\"].rename(\"on_hand_qty\")\n",
        "\n",
        "sell_through = (sales_total / (sales_total + latest_on_hand)).rename(\"sell_through\")\n",
        "sell_through_df = pd.concat([sales_total, latest_on_hand, sell_through], axis=1).reset_index()\n",
        "\n",
        "# Merge with web metrics\n",
        "product_metrics = pd.merge(product_metrics, sell_through_df, on=\"style_code\", how=\"left\")\n",
        "\n",
        "# -------------------- 4. Identify Underperforming Category --------------------\n",
        "low_perf_categories = product_metrics.groupby(\"category\")[\"sell_through\"].mean()\n",
        "low_perf_categories = low_perf_categories[low_perf_categories < 0.40].sort_values()\n",
        "\n",
        "if not low_perf_categories.empty:\n",
        "    low_perf_category = low_perf_categories.index[0]\n",
        "    category_df = product_metrics[product_metrics[\"category\"] == low_perf_category]\n",
        "\n",
        "    # -------------------- 5. Top 3 Styles by Sessions --------------------\n",
        "    top3_styles = category_df.groupby(\"style_code\")[\"sessions\"].sum().sort_values(ascending=False).head(3).index.tolist()\n",
        "    top3_data = category_df[category_df[\"style_code\"].isin(top3_styles)][[\"style_code\", \"sessions\", \"conversion_rate\"]].drop_duplicates()\n",
        "\n",
        "    # -------------------- 6. Inventory vs Sales Plot --------------------\n",
        "    inv_sales = pd.merge(\n",
        "        daily_sales[daily_sales[\"style_code\"].isin(top3_styles)],\n",
        "        daily_inventory[daily_inventory[\"style_code\"].isin(top3_styles)],\n",
        "        on=[\"style_code\", \"snapshot_date\"],\n",
        "        how=\"inner\"\n",
        "    )\n",
        "\n",
        "    plt.figure(figsize=(12, 6))\n",
        "    for style in top3_styles:\n",
        "        subset = inv_sales[inv_sales[\"style_code\"] == style]\n",
        "        plt.plot(subset[\"snapshot_date\"], subset[\"on_hand_qty\"], label=f\"{style} - Inventory\")\n",
        "        plt.plot(subset[\"snapshot_date\"], subset[\"units_sold\"], linestyle='--', label=f\"{style} - Sales\")\n",
        "\n",
        "    plt.title(f\"Inventory vs Sales: Top 3 Styles in '{low_perf_category}'\")\n",
        "    plt.xlabel(\"Date\")\n",
        "    plt.ylabel(\"Units\")\n",
        "    plt.legend()\n",
        "    plt.grid(True)\n",
        "    plt.tight_layout()\n",
        "    plt.show()\n",
        "\n",
        "    # -------------------- 7. Final Output --------------------\n",
        "    print(\"Underperforming Category:\", low_perf_category)\n",
        "    print(\"Top 3 Styles by Sessions and Their Conversion Rates:\")\n",
        "    print(top3_data)\n",
        "\n",
        "else:\n",
        "    print(\"No category found with average sell-through below 40%. Consider using a higher threshold for testing.\")"
      ],
      "metadata": {
        "colab": {
          "base_uri": "https://localhost:8080/"
        },
        "id": "NqbrHo7vtGVm",
        "outputId": "2e11ebb9-3505-4ff6-faab-de05d0449054"
      },
      "execution_count": 15,
      "outputs": [
        {
          "output_type": "stream",
          "name": "stdout",
          "text": [
            "No category found with average sell-through below 40%. Consider using a higher threshold for testing.\n"
          ]
        }
      ]
    }
  ]
}